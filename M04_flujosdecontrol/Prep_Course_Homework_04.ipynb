{
 "cells": [
  {
   "attachments": {},
   "cell_type": "markdown",
   "metadata": {},
   "source": [
    "## Flujos de Control"
   ]
  },
  {
   "attachments": {},
   "cell_type": "markdown",
   "metadata": {},
   "source": [
    "1) Crear una variable que contenga un elemento del conjunto de números enteros y luego imprimir por pantalla si es mayor o menor a cero"
   ]
  },
  {
   "cell_type": "code",
   "execution_count": null,
   "metadata": {},
   "outputs": [],
   "source": [
    "a = 5\n",
    "if a > 0:\n",
    "    print(\"el numero \", a, \" es mayor a 0\")\n",
    "elif a == 0:\n",
    "    print(\"El numero \", a , \" Es igual a 0\")\n",
    "else:\n",
    "    print(\"El numero: \", a , \" Es menor a 0\")\n",
    "    "
   ]
  },
  {
   "attachments": {},
   "cell_type": "markdown",
   "metadata": {},
   "source": [
    "2) Crear dos variables y un condicional que informe si son del mismo tipo de dato"
   ]
  },
  {
   "cell_type": "code",
   "execution_count": null,
   "metadata": {},
   "outputs": [],
   "source": [
    "a = \"Lucho\"\n",
    "b = 28\n",
    "if type(a) == type(b):\n",
    "    print(\"Son el mismo tipo de datos\")\n",
    "else:\n",
    "    print(\"No son el mismo tipo de datos\")"
   ]
  },
  {
   "attachments": {},
   "cell_type": "markdown",
   "metadata": {},
   "source": [
    "3) Para los valores enteros del 1 al 20, imprimir por pantalla si es par o impar"
   ]
  },
  {
   "cell_type": "code",
   "execution_count": null,
   "metadata": {},
   "outputs": [],
   "source": [
    "for i in range(1,21):\n",
    "    if i % 2 == 0:\n",
    "        print(i,\" Es par\")\n",
    "    else:\n",
    "        print(i,\" Es impar\")\n"
   ]
  },
  {
   "attachments": {},
   "cell_type": "markdown",
   "metadata": {},
   "source": [
    "4) En un ciclo for mostrar para los valores entre 0 y 5 el resultado de elevarlo a la potencia igual a 3"
   ]
  },
  {
   "cell_type": "code",
   "execution_count": 9,
   "metadata": {},
   "outputs": [
    {
     "name": "stdout",
     "output_type": "stream",
     "text": [
      "1 elevado a la 3 es:  1\n",
      "2 elevado a la 3 es:  8\n",
      "3 elevado a la 3 es:  27\n",
      "4 elevado a la 3 es:  64\n",
      "5 elevado a la 3 es:  125\n"
     ]
    }
   ],
   "source": [
    "for i in range(1,6):\n",
    "    print(i, \"elevado a la 3 es: \", i**3)"
   ]
  },
  {
   "attachments": {},
   "cell_type": "markdown",
   "metadata": {},
   "source": [
    "5) Crear una variable que contenga un número entero y realizar un ciclo for la misma cantidad de ciclos"
   ]
  },
  {
   "cell_type": "code",
   "execution_count": 11,
   "metadata": {},
   "outputs": [
    {
     "name": "stdout",
     "output_type": "stream",
     "text": [
      "recorriendo for 1\n",
      "recorriendo for 2\n",
      "recorriendo for 3\n",
      "recorriendo for 4\n",
      "recorriendo for 5\n",
      "recorriendo for 6\n"
     ]
    }
   ],
   "source": [
    "a = 6\n",
    "for i in range(1,a+1):\n",
    "    print(\"recorriendo for\", i )"
   ]
  },
  {
   "attachments": {},
   "cell_type": "markdown",
   "metadata": {},
   "source": [
    "6) Utilizar un ciclo while para realizar el factorial de un número guardado en una variable, sólo si la variable contiene un número entero mayor a 0"
   ]
  },
  {
   "cell_type": "code",
   "execution_count": 18,
   "metadata": {},
   "outputs": [
    {
     "name": "stdout",
     "output_type": "stream",
     "text": [
      "El factorial es:  720\n"
     ]
    }
   ],
   "source": [
    "f = 6\n",
    "cont = 1\n",
    "factorial = 1\n",
    "if f > 0:\n",
    "    while cont <= f:\n",
    "        factorial *= cont\n",
    "        cont += 1\n",
    "    print(\"El factorial es: \", factorial)\n",
    "else:\n",
    "    print(\"Valor incorrecto\")     \n",
    "\n",
    "\n"
   ]
  },
  {
   "attachments": {},
   "cell_type": "markdown",
   "metadata": {},
   "source": [
    "7) Crear un ciclo for dentro de un ciclo while"
   ]
  },
  {
   "cell_type": "code",
   "execution_count": 2,
   "metadata": {},
   "outputs": [
    {
     "name": "stdout",
     "output_type": "stream",
     "text": [
      "Ciclo for\n",
      "Ciclo for\n",
      "Ciclo for\n",
      "Ciclo for\n",
      "Ciclo while\n",
      "Ciclo for\n",
      "Ciclo for\n",
      "Ciclo for\n",
      "Ciclo for\n",
      "Ciclo while\n",
      "Ciclo for\n",
      "Ciclo for\n",
      "Ciclo for\n",
      "Ciclo for\n",
      "Ciclo while\n",
      "Ciclo for\n",
      "Ciclo for\n",
      "Ciclo for\n",
      "Ciclo for\n",
      "Ciclo while\n",
      "Ciclo for\n",
      "Ciclo for\n",
      "Ciclo for\n",
      "Ciclo for\n",
      "Ciclo while\n"
     ]
    }
   ],
   "source": [
    "tope = 5\n",
    "j= 0\n",
    "while j < tope:\n",
    "    for i in range(1,tope):\n",
    "        print(\"Ciclo for\")\n",
    "    print(\"Ciclo while\")\n",
    "    j += 1"
   ]
  },
  {
   "attachments": {},
   "cell_type": "markdown",
   "metadata": {},
   "source": [
    "8) Crear un ciclo while dentro de un ciclo for"
   ]
  },
  {
   "cell_type": "code",
   "execution_count": 4,
   "metadata": {},
   "outputs": [
    {
     "name": "stdout",
     "output_type": "stream",
     "text": [
      "Ciclo while\n",
      "Ciclo while\n",
      "Ciclo while\n",
      "Ciclo while\n",
      "Ciclo while\n",
      "Ciclo for\n",
      "Ciclo for\n",
      "Ciclo for\n",
      "Ciclo for\n",
      "Ciclo for\n"
     ]
    }
   ],
   "source": [
    "tope = 5\n",
    "j=0\n",
    "for i in range(0,tope):\n",
    "    while j < tope:\n",
    "        print(\"Ciclo while\")\n",
    "        j+=1\n",
    "    print(\"Ciclo for\")"
   ]
  },
  {
   "attachments": {},
   "cell_type": "markdown",
   "metadata": {},
   "source": [
    "9) Imprimir los números primos existentes entre 0 y 30"
   ]
  },
  {
   "cell_type": "code",
   "execution_count": 20,
   "metadata": {},
   "outputs": [
    {
     "name": "stdout",
     "output_type": "stream",
     "text": [
      "2\n",
      "3\n",
      "5\n",
      "7\n",
      "11\n",
      "13\n",
      "17\n",
      "19\n",
      "23\n",
      "29\n"
     ]
    }
   ],
   "source": [
    "\n",
    "for i in range(2,31):\n",
    "    cont = 0\n",
    "    \n",
    "    for j in range(1,i+1):\n",
    "        if i % j == 0:\n",
    "            cont +=1\n",
    "    if cont == 2:\n",
    "        print(i)\n"
   ]
  },
  {
   "attachments": {},
   "cell_type": "markdown",
   "metadata": {},
   "source": [
    "10) ¿Se puede mejorar el proceso del punto 9? Utilizar las sentencias break y/ó continue para tal fin"
   ]
  },
  {
   "cell_type": "code",
   "execution_count": 19,
   "metadata": {},
   "outputs": [
    {
     "name": "stdout",
     "output_type": "stream",
     "text": [
      "0\n",
      "1\n",
      "2\n",
      "3\n",
      "5\n",
      "7\n",
      "11\n",
      "13\n",
      "17\n",
      "19\n",
      "23\n",
      "29\n"
     ]
    }
   ],
   "source": [
    "n = 0\n",
    "primo = True\n",
    "tope = 30\n",
    "while n < tope:\n",
    "    for div in range(2,n):\n",
    "        if n % div == 0:\n",
    "            primo = False\n",
    "            break;\n",
    "    if(primo):\n",
    "        print(n)\n",
    "    else:\n",
    "        primo = True\n",
    "    n+=1\n"
   ]
  },
  {
   "attachments": {},
   "cell_type": "markdown",
   "metadata": {},
   "source": [
    "11) En los puntos 9 y 10, se diseño un código que encuentra números primos y además se lo optimizó. ¿Es posible saber en qué medida se optimizó?"
   ]
  },
  {
   "cell_type": "code",
   "execution_count": null,
   "metadata": {},
   "outputs": [],
   "source": []
  },
  {
   "attachments": {},
   "cell_type": "markdown",
   "metadata": {},
   "source": [
    "12) Aplicando continue, armar un ciclo while que solo imprima los valores divisibles por 12, dentro del rango de números de 100 a 300"
   ]
  },
  {
   "cell_type": "code",
   "execution_count": null,
   "metadata": {},
   "outputs": [],
   "source": []
  },
  {
   "attachments": {},
   "cell_type": "markdown",
   "metadata": {},
   "source": [
    "13) Utilizar la función **input()** que permite hacer ingresos por teclado, para encontrar números primos y dar la opción al usario de buscar el siguiente"
   ]
  },
  {
   "cell_type": "code",
   "execution_count": null,
   "metadata": {},
   "outputs": [],
   "source": []
  },
  {
   "attachments": {},
   "cell_type": "markdown",
   "metadata": {},
   "source": [
    "14) Crear un ciclo while que encuentre dentro del rango de 100 a 300 el primer número divisible por 3 y además múltiplo de 6"
   ]
  },
  {
   "cell_type": "code",
   "execution_count": null,
   "metadata": {},
   "outputs": [],
   "source": []
  }
 ],
 "metadata": {
  "interpreter": {
   "hash": "c85384e4cb51c8b72350f3a8712cc8351fdc3955e32a27f9b60c6242ab125f01"
  },
  "kernelspec": {
   "display_name": "Python 3 (ipykernel)",
   "language": "python",
   "name": "python3"
  },
  "language_info": {
   "codemirror_mode": {
    "name": "ipython",
    "version": 3
   },
   "file_extension": ".py",
   "mimetype": "text/x-python",
   "name": "python",
   "nbconvert_exporter": "python",
   "pygments_lexer": "ipython3",
   "version": "3.11.2"
  }
 },
 "nbformat": 4,
 "nbformat_minor": 4
}
