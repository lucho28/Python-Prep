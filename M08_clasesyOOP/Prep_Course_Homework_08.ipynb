{
 "cells": [
  {
   "attachments": {},
   "cell_type": "markdown",
   "metadata": {},
   "source": [
    "## Clases y Programación Orientada a Objetos"
   ]
  },
  {
   "attachments": {},
   "cell_type": "markdown",
   "metadata": {},
   "source": [
    "1) Crear la clase vehículo que contenga los atributos:<br>\n",
    "Color<br>\n",
    "Si es moto, auto, camioneta ó camión<br>\n",
    "Cilindrada del motor"
   ]
  },
  {
   "cell_type": "code",
   "execution_count": 1,
   "metadata": {},
   "outputs": [],
   "source": [
    "class Vehiculo:\n",
    "    def __init__(self, tipo, cilindrada):\n",
    "        self.tipo = tipo\n",
    "        self.cilindrada = cilindrada"
   ]
  },
  {
   "attachments": {},
   "cell_type": "markdown",
   "metadata": {},
   "source": [
    "2) A la clase Vehiculo creada en el punto 1, agregar los siguientes métodos:<br>\n",
    "Acelerar<br>\n",
    "Frenar<br>\n",
    "Doblar<br>"
   ]
  },
  {
   "cell_type": "code",
   "execution_count": 5,
   "metadata": {},
   "outputs": [
    {
     "name": "stdout",
     "output_type": "stream",
     "text": [
      "Hola soy un vehiculo del tipo  auto y estoy doblando !!\n",
      "Hola soy un vehiculo del tipo  auto y estoy frenando !!\n",
      "Hola soy un vehiculo del tipo  auto y estoy acelerando !!\n"
     ]
    }
   ],
   "source": [
    "class Vehiculo:\n",
    "    def __init__(self, tipo, cilindrada):\n",
    "        self.tipo = tipo\n",
    "        self.cilindrada = cilindrada\n",
    "    \n",
    "    def acelerar(self):\n",
    "        print(\"Hola soy un vehiculo del tipo \", self.tipo , \"y estoy acelerando !!\")\n",
    "\n",
    "    def frenar(self):\n",
    "        print(\"Hola soy un vehiculo del tipo \", self.tipo , \"y estoy frenando !!\")\n",
    "    \n",
    "    def doblar(self):\n",
    "        print(\"Hola soy un vehiculo del tipo \", self.tipo , \"y estoy doblando !!\")\n",
    "    \n",
    "\n",
    "    "
   ]
  },
  {
   "attachments": {},
   "cell_type": "markdown",
   "metadata": {},
   "source": [
    "3) Instanciar 3 objetos de la clase vehículo y ejecutar sus métodos, probar luego el resultado"
   ]
  },
  {
   "cell_type": "code",
   "execution_count": 6,
   "metadata": {},
   "outputs": [
    {
     "name": "stdout",
     "output_type": "stream",
     "text": [
      "Hola soy un vehiculo del tipo  auto y estoy doblando !!\n",
      "Hola soy un vehiculo del tipo  auto y estoy frenando !!\n",
      "Hola soy un vehiculo del tipo  auto y estoy acelerando !!\n"
     ]
    }
   ],
   "source": [
    "class Vehiculo:\n",
    "    def __init__(self, tipo, cilindrada):\n",
    "        self.tipo = tipo\n",
    "        self.cilindrada = cilindrada\n",
    "    \n",
    "    def acelerar(self):\n",
    "        print(\"Hola soy un vehiculo del tipo \", self.tipo , \"y estoy acelerando !!\")\n",
    "\n",
    "    def frenar(self):\n",
    "        print(\"Hola soy un vehiculo del tipo \", self.tipo , \"y estoy frenando !!\")\n",
    "    \n",
    "    def doblar(self):\n",
    "        print(\"Hola soy un vehiculo del tipo \", self.tipo , \"y estoy doblando !!\")\n",
    "    \n",
    "\n",
    "vehiculo1 = Vehiculo(\"auto\",2500)\n",
    "\n",
    "vehiculo1.doblar()\n",
    "vehiculo1.frenar()\n",
    "vehiculo1.acelerar()"
   ]
  },
  {
   "attachments": {},
   "cell_type": "markdown",
   "metadata": {},
   "source": [
    "4) Agregar a la clase Vehiculo, un método que muestre su estado, es decir, a que velocidad se encuentra y su dirección. Y otro método que muestre color, tipo y cilindrada"
   ]
  },
  {
   "cell_type": "code",
   "execution_count": null,
   "metadata": {},
   "outputs": [],
   "source": []
  },
  {
   "attachments": {},
   "cell_type": "markdown",
   "metadata": {},
   "source": [
    "5) Crear una clase que permita utilizar las funciones creadas en la práctica del módulo 7<br>\n",
    "Verificar Primo<br>\n",
    "Valor modal<br>\n",
    "Conversión grados<br>\n",
    "Factorial<br>"
   ]
  },
  {
   "cell_type": "code",
   "execution_count": null,
   "metadata": {},
   "outputs": [],
   "source": []
  },
  {
   "attachments": {},
   "cell_type": "markdown",
   "metadata": {},
   "source": [
    "6) Probar las funciones incorporadas en la clase del punto 5"
   ]
  },
  {
   "cell_type": "code",
   "execution_count": null,
   "metadata": {},
   "outputs": [],
   "source": []
  },
  {
   "attachments": {},
   "cell_type": "markdown",
   "metadata": {},
   "source": [
    "7) Es necesario que la clase creada en el punto 5 contenga una lista, sobre la cual se apliquen las funciones incorporadas"
   ]
  },
  {
   "cell_type": "code",
   "execution_count": null,
   "metadata": {},
   "outputs": [],
   "source": []
  },
  {
   "attachments": {},
   "cell_type": "markdown",
   "metadata": {},
   "source": [
    "8) Crear un archivo .py aparte y ubicar allí la clase generada en el punto anterior. Luego realizar la importación del módulo y probar alguna de sus funciones"
   ]
  },
  {
   "cell_type": "code",
   "execution_count": null,
   "metadata": {},
   "outputs": [],
   "source": []
  }
 ],
 "metadata": {
  "interpreter": {
   "hash": "c85384e4cb51c8b72350f3a8712cc8351fdc3955e32a27f9b60c6242ab125f01"
  },
  "kernelspec": {
   "display_name": "Python 3 (ipykernel)",
   "language": "python",
   "name": "python3"
  },
  "language_info": {
   "codemirror_mode": {
    "name": "ipython",
    "version": 3
   },
   "file_extension": ".py",
   "mimetype": "text/x-python",
   "name": "python",
   "nbconvert_exporter": "python",
   "pygments_lexer": "ipython3",
   "version": "3.11.2"
  }
 },
 "nbformat": 4,
 "nbformat_minor": 4
}
