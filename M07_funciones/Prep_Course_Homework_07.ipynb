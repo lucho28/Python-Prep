{
 "cells": [
  {
   "attachments": {},
   "cell_type": "markdown",
   "metadata": {},
   "source": [
    "## Funciones"
   ]
  },
  {
   "attachments": {},
   "cell_type": "markdown",
   "metadata": {},
   "source": [
    "1) Crear una función que reciba un número como parámetro y devuelva True si es primo y False si no lo es"
   ]
  },
  {
   "cell_type": "code",
   "execution_count": 8,
   "metadata": {},
   "outputs": [],
   "source": [
    "def es_primo(valor):\n",
    "    primo = True\n",
    "    for i in range(2,valor):\n",
    "        if valor % 2 == 0:\n",
    "            return False\n",
    "            break\n",
    "    return primo\n",
    "            \n"
   ]
  },
  {
   "attachments": {},
   "cell_type": "markdown",
   "metadata": {},
   "source": [
    "2) Utilizando la función del punto 1, realizar otra función que reciba de parámetro una lista de números y devuelva sólo aquellos que son primos en otra lista"
   ]
  },
  {
   "cell_type": "code",
   "execution_count": 25,
   "metadata": {},
   "outputs": [],
   "source": [
    "def extraer_primos(primos):\n",
    "    lista_primos=[]\n",
    "    for i in primos:\n",
    "        if es_primo(i):\n",
    "            lista_primos.append(i)\n",
    "    return lista_primos\n"
   ]
  },
  {
   "attachments": {},
   "cell_type": "markdown",
   "metadata": {},
   "source": [
    "3) Crear una función que al recibir una lista de números, devuelva el que más se repite y cuántas veces lo hace. Si hay más de un \"más repetido\", que devuelva cualquiera"
   ]
  },
  {
   "cell_type": "code",
   "execution_count": 45,
   "metadata": {},
   "outputs": [
    {
     "data": {
      "text/plain": [
       "5"
      ]
     },
     "execution_count": 45,
     "metadata": {},
     "output_type": "execute_result"
    }
   ],
   "source": [
    "lista_prueba = [1,1,5,5,3,3,6,9,2,4,1,7,5,4,5,6,3,1,4,5,8,2]\n",
    "\n",
    "\n",
    "\n",
    "        \n"
   ]
  },
  {
   "attachments": {},
   "cell_type": "markdown",
   "metadata": {},
   "source": [
    "4) Crear una función que convierta entre grados Celsius, Farenheit y Kelvin<br>\n",
    "Fórmula 1\t: (°C × 9/5) + 32 = °F<br>\n",
    "Fórmula 2\t: °C + 273.15 = °K<br>\n",
    "Debe recibir 3 parámetros: el valor, la medida de orígen y la medida de destino\n"
   ]
  },
  {
   "cell_type": "code",
   "execution_count": 46,
   "metadata": {},
   "outputs": [],
   "source": [
    "def convertir_temp(valor,origen,destino):\n",
    "    if origen == \"celsius\":\n",
    "        if destino == \"celsius\":\n",
    "            temp = valor\n",
    "        elif destino == \"kelvin\":\n",
    "            temp = valor + 273.15\n",
    "        elif destino == \"farenheit\":\n",
    "            temp = (valor * 9/5) +32\n",
    "        else:\n",
    "            print(\"Valor incorrecto\")\n",
    "    if origen == \"kelvin\":\n",
    "        if destino == \"kelvin\":\n",
    "            temp = valor\n",
    "        elif destino == \"celsius\":\n",
    "            temp = valor - 273.15\n",
    "        elif destino == \"farenheit\":\n",
    "            temp = ((valor - 273.15) * 9 / 5) + 32\n",
    "        else:\n",
    "            print(\"Valor incorrecto\")\n",
    "    if origen == \"farenheit\":\n",
    "        if destino == \"farenheit\":\n",
    "            temp = valor\n",
    "        elif destino == \"celsius\":\n",
    "            temp = valor - 273.15\n",
    "        elif destino == \"kelvin\":\n",
    "            temp = ((valor - 273.15) * 9 / 5) + 32\n",
    "        else:\n",
    "            print(\"Valor incorrecto\")\n",
    "    return temp\n"
   ]
  },
  {
   "cell_type": "code",
   "execution_count": 47,
   "metadata": {},
   "outputs": [
    {
     "data": {
      "text/plain": [
       "100"
      ]
     },
     "execution_count": 47,
     "metadata": {},
     "output_type": "execute_result"
    }
   ],
   "source": [
    "convertir_temp(100,\"celsius\",\"celsius\")"
   ]
  },
  {
   "attachments": {},
   "cell_type": "markdown",
   "metadata": {},
   "source": [
    "5) Iterando una lista con los tres valores posibles de temperatura que recibe la función del punto 5, hacer un print para cada combinación de los mismos:"
   ]
  },
  {
   "cell_type": "code",
   "execution_count": null,
   "metadata": {},
   "outputs": [],
   "source": [
    "lista_temp = [100,100,100]\n",
    "for i in lista_temp:\n",
    "    "
   ]
  },
  {
   "cell_type": "code",
   "execution_count": null,
   "metadata": {},
   "outputs": [],
   "source": []
  }
 ],
 "metadata": {
  "interpreter": {
   "hash": "c85384e4cb51c8b72350f3a8712cc8351fdc3955e32a27f9b60c6242ab125f01"
  },
  "kernelspec": {
   "display_name": "Python 3 (ipykernel)",
   "language": "python",
   "name": "python3"
  },
  "language_info": {
   "codemirror_mode": {
    "name": "ipython",
    "version": 3
   },
   "file_extension": ".py",
   "mimetype": "text/x-python",
   "name": "python",
   "nbconvert_exporter": "python",
   "pygments_lexer": "ipython3",
   "version": "3.11.2"
  }
 },
 "nbformat": 4,
 "nbformat_minor": 4
}
