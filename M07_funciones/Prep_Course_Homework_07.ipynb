{
 "cells": [
  {
   "attachments": {},
   "cell_type": "markdown",
   "metadata": {},
   "source": [
    "## Funciones"
   ]
  },
  {
   "attachments": {},
   "cell_type": "markdown",
   "metadata": {},
   "source": [
    "1) Crear una función que reciba un número como parámetro y devuelva True si es primo y False si no lo es"
   ]
  },
  {
   "cell_type": "code",
   "execution_count": 17,
   "metadata": {},
   "outputs": [
    {
     "name": "stdout",
     "output_type": "stream",
     "text": [
      "False\n"
     ]
    }
   ],
   "source": [
    "def funcion_primo(num):\n",
    "    cont=0\n",
    "    d=1\n",
    "    while d <= num:\n",
    "        if num % d == 0:\n",
    "            cont+=1\n",
    "        d+=1\n",
    "    if cont == 2:\n",
    "        return True\n",
    "    else:\n",
    "        return False\n",
    "\n",
    "print(funcion_primo(4))"
   ]
  },
  {
   "attachments": {},
   "cell_type": "markdown",
   "metadata": {},
   "source": [
    "2) Utilizando la función del punto 1, realizar otra función que reciba de parámetro una lista de números y devuelva sólo aquellos que son primos en otra lista"
   ]
  },
  {
   "cell_type": "code",
   "execution_count": 19,
   "metadata": {},
   "outputs": [
    {
     "name": "stdout",
     "output_type": "stream",
     "text": [
      "[2, 3, 5, 7, 11, 13]\n"
     ]
    }
   ],
   "source": [
    "listado = [1,2,3,4,5,6,7,8,9,10,11,12,13,14,15,16]\n",
    "\n",
    "def funcion_lista(listado):\n",
    "    listado_primos = []\n",
    "    for i in listado:\n",
    "        if funcion_primo(i) == True:\n",
    "            listado_primos.append(i)\n",
    "    return listado_primos\n",
    "\n",
    "print(funcion_lista(listado))"
   ]
  },
  {
   "attachments": {},
   "cell_type": "markdown",
   "metadata": {},
   "source": [
    "3) Crear una función que al recibir una lista de números, devuelva el que más se repite y cuántas veces lo hace. Si hay más de un \"más repetido\", que devuelva cualquiera"
   ]
  },
  {
   "cell_type": "code",
   "execution_count": 50,
   "metadata": {},
   "outputs": [
    {
     "name": "stdout",
     "output_type": "stream",
     "text": [
      "(8, 10)\n"
     ]
    }
   ],
   "source": [
    "numeros = [1,1,1,1,2,3,4,4,4,4,4,4,4,8,8,8,8,8,8,8,8,8,8]\n",
    "\n",
    "def repetidos(numeros):\n",
    "    cantidad=0\n",
    "    for i in range(0,len(numeros)):\n",
    "        if numeros.count(numeros[i]) > cantidad:\n",
    "            cantidad = numeros.count(numeros[i])\n",
    "            \n",
    "    return numeros[i], cantidad            \n",
    "\n",
    "\n",
    "\n",
    "print(repetidos(numeros))\n"
   ]
  },
  {
   "attachments": {},
   "cell_type": "markdown",
   "metadata": {},
   "source": [
    "4) Crear una función que convierta entre grados Celsius, Farenheit y Kelvin<br>\n",
    "Fórmula 1\t: (°C × 9/5) + 32 = °F<br>\n",
    "Fórmula 2\t: °C + 273.15 = °K<br>\n",
    "Debe recibir 3 parámetros: el valor, la medida de orígen y la medida de destino\n"
   ]
  },
  {
   "cell_type": "code",
   "execution_count": 43,
   "metadata": {},
   "outputs": [],
   "source": [
    "def temperatura(valor, origen, destino):\n",
    "    if origen == \"Celsius\":\n",
    "        if destino == \"Farenheit\":\n",
    "            temp = (valor * 9/5) + 32\n",
    "        elif destino == \"Kelvin\":\n",
    "            temp = valor + 273.15\n",
    "        elif destino == \"Celsius\":\n",
    "            temp = valor\n",
    "        else:\n",
    "            print(\"Valor incorrecto\")\n",
    "    elif origen == \"Farenheit\":\n",
    "        if destino == \"Farenheit\":\n",
    "            temp = valor\n",
    "        elif destino == \"Kelvin\":\n",
    "            temp = ((valor - 32) * 5 / 9) + 273.15\n",
    "        elif destino == \"Celsius\":\n",
    "            temp = (valor - 32) * 5/9\n",
    "        else:\n",
    "            print(\"Valro incorrento\")\n",
    "    elif origen == \"Kelvin\":\n",
    "        if destino == \"Kelvin\":\n",
    "            temp = valor\n",
    "        elif destino == \"Celsius\":\n",
    "            temp = valor - 273.15\n",
    "        elif destino == \"Farenheit\":\n",
    "            temp = ((valor - 273.15) * 9 / 5) + 32 \n",
    "        else:\n",
    "            print(\"Valor incorreto\")\n",
    "    else:\n",
    "        print(\"Valor de origen incorrecto\")\n",
    "\n",
    "    return temp\n"
   ]
  },
  {
   "cell_type": "code",
   "execution_count": 39,
   "metadata": {},
   "outputs": [
    {
     "name": "stdout",
     "output_type": "stream",
     "text": [
      "1 grado celsius a celsius es:  1\n",
      "1 grado celsius a farenheit es:  33.8\n"
     ]
    }
   ],
   "source": [
    "print(\"1 grado celsius a celsius es: \",temperatura(1,\"Celsius\",\"Celsius\"))\n",
    "print(\"1 grado celsius a farenheit es: \",temperatura(1,\"Celsius\",\"Farenheit\"))"
   ]
  },
  {
   "attachments": {},
   "cell_type": "markdown",
   "metadata": {},
   "source": [
    "5) Iterando una lista con los tres valores posibles de temperatura que recibe la función del punto 5, hacer un print para cada combinación de los mismos:"
   ]
  },
  {
   "cell_type": "code",
   "execution_count": 44,
   "metadata": {},
   "outputs": [
    {
     "name": "stdout",
     "output_type": "stream",
     "text": [
      "1 grado de:  Celsius  a  Celsius  es  1\n",
      "1 grado de:  Celsius  a  Farenheit  es  33.8\n",
      "1 grado de:  Celsius  a  Kelvin  es  274.15\n",
      "1 grado de:  Farenheit  a  Celsius  es  -17.22222222222222\n",
      "1 grado de:  Farenheit  a  Farenheit  es  1\n",
      "1 grado de:  Farenheit  a  Kelvin  es  255.92777777777775\n",
      "1 grado de:  Kelvin  a  Celsius  es  -272.15\n",
      "1 grado de:  Kelvin  a  Farenheit  es  -457.87\n",
      "1 grado de:  Kelvin  a  Kelvin  es  1\n"
     ]
    }
   ],
   "source": [
    "las_tempreraturas = [\"Celsius\",\"Farenheit\",\"Kelvin\"]\n",
    "\n",
    "for i in range(0,3):\n",
    "    for j in range(0,3):\n",
    "        print(\"1 grado de: \",las_tempreraturas[i], \" a \", las_tempreraturas[j], \" es \", temperatura(1,las_tempreraturas[i],las_tempreraturas[j]))"
   ]
  },
  {
   "cell_type": "code",
   "execution_count": 100,
   "metadata": {},
   "outputs": [
    {
     "name": "stdout",
     "output_type": "stream",
     "text": [
      "Valor incorrecto para operar\n",
      "Valor incorrecto para operar\n",
      "720\n",
      "1\n"
     ]
    }
   ],
   "source": [
    "def factorial(valor):\n",
    "    valor_factorial=1\n",
    "    if valor < 0:\n",
    "        return \"Valor incorrecto para operar\"\n",
    "    if type(valor) != int:\n",
    "        return \"Valor incorrecto para operar\"\n",
    "        \n",
    "    for i in range(1,valor):\n",
    "            valor_factorial = valor_factorial + valor_factorial*i\n",
    "    \n",
    "    return valor_factorial     \n",
    "   \n",
    "    \n",
    "\n",
    "print(factorial(3.5))\n",
    "print(factorial(-4))\n",
    "print(factorial(6))\n",
    "print(factorial(1))"
   ]
  }
 ],
 "metadata": {
  "interpreter": {
   "hash": "c85384e4cb51c8b72350f3a8712cc8351fdc3955e32a27f9b60c6242ab125f01"
  },
  "kernelspec": {
   "display_name": "Python 3 (ipykernel)",
   "language": "python",
   "name": "python3"
  },
  "language_info": {
   "codemirror_mode": {
    "name": "ipython",
    "version": 3
   },
   "file_extension": ".py",
   "mimetype": "text/x-python",
   "name": "python",
   "nbconvert_exporter": "python",
   "pygments_lexer": "ipython3",
   "version": "3.11.2"
  }
 },
 "nbformat": 4,
 "nbformat_minor": 4
}
