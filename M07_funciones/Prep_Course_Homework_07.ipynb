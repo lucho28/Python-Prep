{
 "cells": [
  {
   "attachments": {},
   "cell_type": "markdown",
   "metadata": {},
   "source": [
    "## Funciones"
   ]
  },
  {
   "attachments": {},
   "cell_type": "markdown",
   "metadata": {},
   "source": [
    "1) Crear una función que reciba un número como parámetro y devuelva True si es primo y False si no lo es"
   ]
  },
  {
   "cell_type": "code",
   "execution_count": 17,
   "metadata": {},
   "outputs": [
    {
     "name": "stdout",
     "output_type": "stream",
     "text": [
      "False\n"
     ]
    }
   ],
   "source": [
    "def funcion_primo(num):\n",
    "    cont=0\n",
    "    d=1\n",
    "    while d <= num:\n",
    "        if num % d == 0:\n",
    "            cont+=1\n",
    "        d+=1\n",
    "    if cont == 2:\n",
    "        return True\n",
    "    else:\n",
    "        return False\n",
    "\n",
    "print(funcion_primo(4))"
   ]
  },
  {
   "attachments": {},
   "cell_type": "markdown",
   "metadata": {},
   "source": [
    "2) Utilizando la función del punto 1, realizar otra función que reciba de parámetro una lista de números y devuelva sólo aquellos que son primos en otra lista"
   ]
  },
  {
   "cell_type": "code",
   "execution_count": 19,
   "metadata": {},
   "outputs": [
    {
     "name": "stdout",
     "output_type": "stream",
     "text": [
      "[2, 3, 5, 7, 11, 13]\n"
     ]
    }
   ],
   "source": [
    "listado = [1,2,3,4,5,6,7,8,9,10,11,12,13,14,15,16]\n",
    "\n",
    "def funcion_lista(listado):\n",
    "    listado_primos = []\n",
    "    for i in listado:\n",
    "        if funcion_primo(i) == True:\n",
    "            listado_primos.append(i)\n",
    "    return listado_primos\n",
    "\n",
    "print(funcion_lista(listado))"
   ]
  },
  {
   "attachments": {},
   "cell_type": "markdown",
   "metadata": {},
   "source": [
    "3) Crear una función que al recibir una lista de números, devuelva el que más se repite y cuántas veces lo hace. Si hay más de un \"más repetido\", que devuelva cualquiera"
   ]
  },
  {
   "cell_type": "code",
   "execution_count": 50,
   "metadata": {},
   "outputs": [
    {
     "name": "stdout",
     "output_type": "stream",
     "text": [
      "(8, 10)\n"
     ]
    }
   ],
   "source": [
    "numeros = [1,1,1,1,2,3,4,4,4,4,4,4,4,8,8,8,8,8,8,8,8,8,8]\n",
    "\n",
    "def repetidos(numeros):\n",
    "    cantidad=0\n",
    "    for i in range(0,len(numeros)):\n",
    "        if numeros.count(numeros[i]) > cantidad:\n",
    "            cantidad = numeros.count(numeros[i])\n",
    "            \n",
    "    return numeros[i], cantidad            \n",
    "\n",
    "\n",
    "\n",
    "print(repetidos(numeros))\n"
   ]
  },
  {
   "attachments": {},
   "cell_type": "markdown",
   "metadata": {},
   "source": [
    "4) Crear una función que convierta entre grados Celsius, Farenheit y Kelvin<br>\n",
    "Fórmula 1\t: (°C × 9/5) + 32 = °F<br>\n",
    "Fórmula 2\t: °C + 273.15 = °K<br>\n",
    "Debe recibir 3 parámetros: el valor, la medida de orígen y la medida de destino\n"
   ]
  },
  {
   "cell_type": "code",
   "execution_count": null,
   "metadata": {},
   "outputs": [],
   "source": [
    "def temperatura(valor, origen, destino):\n",
    "    if origen == \"Celsius\" & destino == \"Farenheit\":\n",
    "        temp = (valor * 9/5) + 32\n",
    "        return temp\n",
    "    elif origen == \"Celsisu\" & destino == \"Kelvin\":\n",
    "        temp = valor + 273.15\n",
    "        return temp\n",
    "    elif origen == \"Farenheit\" & destino == \"Celsius\":\n",
    "        temp = ((valor - 32) * 5) / 9\n",
    "        return temp\n",
    "    elif origen == \"Kelvin\" & destino == \"Celsius\":\n",
    "        temp = valor - 273.15\n",
    "        return temp\n",
    "    elif origen == \"Kelvin\" & destino == \"Farenheit\":\n",
    "        temp = \n",
    "\n",
    "print(temperatura)"
   ]
  },
  {
   "attachments": {},
   "cell_type": "markdown",
   "metadata": {},
   "source": [
    "5) Iterando una lista con los tres valores posibles de temperatura que recibe la función del punto 5, hacer un print para cada combinación de los mismos:"
   ]
  },
  {
   "cell_type": "code",
   "execution_count": null,
   "metadata": {},
   "outputs": [],
   "source": []
  },
  {
   "attachments": {},
   "cell_type": "markdown",
   "metadata": {},
   "source": [
    "6) Armar una función que devuelva el factorial de un número. Tener en cuenta que el usuario puede equivocarse y enviar de parámetro un número no entero o negativo"
   ]
  },
  {
   "cell_type": "code",
   "execution_count": null,
   "metadata": {},
   "outputs": [],
   "source": []
  }
 ],
 "metadata": {
  "interpreter": {
   "hash": "c85384e4cb51c8b72350f3a8712cc8351fdc3955e32a27f9b60c6242ab125f01"
  },
  "kernelspec": {
   "display_name": "Python 3 (ipykernel)",
   "language": "python",
   "name": "python3"
  },
  "language_info": {
   "codemirror_mode": {
    "name": "ipython",
    "version": 3
   },
   "file_extension": ".py",
   "mimetype": "text/x-python",
   "name": "python",
   "nbconvert_exporter": "python",
   "pygments_lexer": "ipython3",
   "version": "3.11.2"
  }
 },
 "nbformat": 4,
 "nbformat_minor": 4
}
